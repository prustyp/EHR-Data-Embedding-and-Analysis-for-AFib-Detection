{
 "cells": [
  {
   "cell_type": "markdown",
   "metadata": {},
   "source": [
    "#### This notebook finds out embeddings and use it to create the Machine Learning Models"
   ]
  },
  {
   "cell_type": "markdown",
   "metadata": {},
   "source": [
    "## Imports"
   ]
  },
  {
   "cell_type": "code",
   "execution_count": 1,
   "metadata": {},
   "outputs": [],
   "source": [
    "import pandas as pd\n",
    "import pickle\n",
    "from pandarallel import pandarallel\n",
    "from scipy import stats\n",
    "import time\n",
    "import numpy as np\n",
    "from sklearn.utils import shuffle\n"
   ]
  },
  {
   "cell_type": "code",
   "execution_count": 2,
   "metadata": {},
   "outputs": [],
   "source": [
    "## Load the pre-created Diag_med key sert\n",
    "with open('/home/pprusty/data_science/Project/pandas_impl/BalancedResult/diag_med_key_set.pickle','rb') as fh:\n",
    "    diag_med_key_set = pickle.load(fh)"
   ]
  },
  {
   "cell_type": "code",
   "execution_count": 3,
   "metadata": {},
   "outputs": [
    {
     "data": {
      "text/plain": [
       "17359"
      ]
     },
     "execution_count": 3,
     "metadata": {},
     "output_type": "execute_result"
    }
   ],
   "source": [
    "len(diag_med_key_set)"
   ]
  },
  {
   "cell_type": "code",
   "execution_count": 4,
   "metadata": {},
   "outputs": [],
   "source": [
    "## Load the balanced afib 100 dataset\n",
    "df = pd.read_pickle('/home/pprusty/data_science/Project/pandas_impl/BalancedResult/balanced_afib_100.pickle')"
   ]
  },
  {
   "cell_type": "code",
   "execution_count": 5,
   "metadata": {},
   "outputs": [
    {
     "data": {
      "text/plain": [
       "(45996, 3)"
      ]
     },
     "execution_count": 5,
     "metadata": {},
     "output_type": "execute_result"
    }
   ],
   "source": [
    "df.shape"
   ]
  },
  {
   "cell_type": "code",
   "execution_count": 6,
   "metadata": {},
   "outputs": [],
   "source": [
    "## Create an NP Array of zeros\n",
    "input_np_array = np.zeros((45996 , 17359)).astype(int)"
   ]
  },
  {
   "cell_type": "code",
   "execution_count": 8,
   "metadata": {},
   "outputs": [],
   "source": [
    "## Create a map of key name and its column in NP Array\n",
    "key_name_column_id_dict = {}\n",
    "column = 0\n",
    "for key in diag_med_key_set:\n",
    "    key_name_column_id_dict[key] = column\n",
    "    column = column + 1"
   ]
  },
  {
   "cell_type": "code",
   "execution_count": 9,
   "metadata": {},
   "outputs": [],
   "source": [
    "## Fill the input np array\n",
    "input_np_array = np.zeros((45996 , 17359)).astype(int)\n",
    "for index, row in df.iterrows():\n",
    "    # Get the list of diag_med values for each patient\n",
    "    list_ids = row['diag_med'].split(',')\n",
    "    # We want only unique values, not count multiple times for one patient\n",
    "    list_id_set = set(list_ids)\n",
    "    for key in list_id_set:\n",
    "        input_np_array[index][key_name_column_id_dict[key]] = 1"
   ]
  },
  {
   "cell_type": "code",
   "execution_count": 10,
   "metadata": {},
   "outputs": [
    {
     "data": {
      "text/plain": [
       "array([[0, 0, 0, ..., 0, 0, 0],\n",
       "       [0, 0, 0, ..., 0, 0, 0],\n",
       "       [0, 0, 0, ..., 0, 0, 0],\n",
       "       ...,\n",
       "       [0, 0, 0, ..., 0, 0, 0],\n",
       "       [0, 0, 0, ..., 0, 0, 0],\n",
       "       [0, 0, 0, ..., 0, 0, 0]])"
      ]
     },
     "execution_count": 10,
     "metadata": {},
     "output_type": "execute_result"
    }
   ],
   "source": [
    "input_np_array"
   ]
  },
  {
   "cell_type": "markdown",
   "metadata": {},
   "source": [
    "### Create the Autoencoder Model"
   ]
  },
  {
   "cell_type": "code",
   "execution_count": 1,
   "metadata": {},
   "outputs": [],
   "source": [
    "import keras\n",
    "from keras import layers\n",
    "\n",
    "# This is the size of our encoded representations\n",
    "encoding_dim = 100  # \n",
    "\n",
    "# This is our input image\n",
    "input_row = keras.Input(shape=(17359,))\n",
    "# \"encoded\" is the encoded representation of the input\n",
    "encoded = layers.Dense(encoding_dim, activation='relu')(input_row)\n",
    "# \"decoded\" is the lossy reconstruction of the input\n",
    "decoded = layers.Dense(17359, activation='sigmoid')(encoded)\n",
    "\n",
    "# This model maps an input to its reconstruction\n",
    "autoencoder = keras.Model(input_row, decoded)"
   ]
  },
  {
   "cell_type": "code",
   "execution_count": 13,
   "metadata": {},
   "outputs": [],
   "source": [
    "# This model maps an input to its encoded representation\n",
    "encoder = keras.Model(input_row, encoded)"
   ]
  },
  {
   "cell_type": "code",
   "execution_count": 14,
   "metadata": {},
   "outputs": [],
   "source": [
    "encoded_input = keras.Input(shape=(encoding_dim,))\n",
    "# Retrieve the last layer of the autoencoder model\n",
    "decoder_layer = autoencoder.layers[-1]\n",
    "# Create the decoder model\n",
    "decoder = keras.Model(encoded_input, decoder_layer(encoded_input))"
   ]
  },
  {
   "cell_type": "code",
   "execution_count": 15,
   "metadata": {},
   "outputs": [],
   "source": [
    "autoencoder.compile(optimizer='adam', loss='binary_crossentropy', metrics=[\"accuracy\"])"
   ]
  },
  {
   "cell_type": "code",
   "execution_count": 16,
   "metadata": {},
   "outputs": [],
   "source": [
    "from sklearn.model_selection import train_test_split"
   ]
  },
  {
   "cell_type": "code",
   "execution_count": 17,
   "metadata": {},
   "outputs": [
    {
     "data": {
      "text/plain": [
       "(45996, 17359)"
      ]
     },
     "execution_count": 17,
     "metadata": {},
     "output_type": "execute_result"
    }
   ],
   "source": [
    "input_np_array.shape"
   ]
  },
  {
   "cell_type": "code",
   "execution_count": 18,
   "metadata": {},
   "outputs": [],
   "source": [
    "## Create XTrain\n",
    "XTrain =  input_np_array[0:22998]"
   ]
  },
  {
   "cell_type": "code",
   "execution_count": 19,
   "metadata": {},
   "outputs": [],
   "source": [
    "## Create yTrain\n",
    "yTrain =  input_np_array[22998:]"
   ]
  },
  {
   "cell_type": "code",
   "execution_count": 22,
   "metadata": {},
   "outputs": [
    {
     "name": "stdout",
     "output_type": "stream",
     "text": [
      "Epoch 1/50\n",
      "90/90 [==============================] - 20s 226ms/step - loss: 0.3179 - accuracy: 0.0267 - val_loss: 0.1115 - val_accuracy: 0.0287\n",
      "Epoch 2/50\n",
      "90/90 [==============================] - 12s 136ms/step - loss: 0.0800 - accuracy: 0.0276 - val_loss: 0.0596 - val_accuracy: 0.0287\n",
      "Epoch 3/50\n",
      "90/90 [==============================] - 12s 134ms/step - loss: 0.0485 - accuracy: 0.0276 - val_loss: 0.0404 - val_accuracy: 0.0287\n",
      "Epoch 4/50\n",
      "90/90 [==============================] - 12s 134ms/step - loss: 0.0334 - accuracy: 0.0276 - val_loss: 0.0300 - val_accuracy: 0.0287\n",
      "Epoch 5/50\n",
      "90/90 [==============================] - 12s 133ms/step - loss: 0.0252 - accuracy: 0.0276 - val_loss: 0.0241 - val_accuracy: 0.0287\n",
      "Epoch 6/50\n",
      "90/90 [==============================] - 12s 131ms/step - loss: 0.0203 - accuracy: 0.0276 - val_loss: 0.0204 - val_accuracy: 0.0287\n",
      "Epoch 7/50\n",
      "90/90 [==============================] - 12s 132ms/step - loss: 0.0171 - accuracy: 0.0276 - val_loss: 0.0179 - val_accuracy: 0.0287\n",
      "Epoch 8/50\n",
      "90/90 [==============================] - 12s 131ms/step - loss: 0.0149 - accuracy: 0.0276 - val_loss: 0.0161 - val_accuracy: 0.0287\n",
      "Epoch 9/50\n",
      "90/90 [==============================] - 12s 133ms/step - loss: 0.0133 - accuracy: 0.0276 - val_loss: 0.0148 - val_accuracy: 0.0287\n",
      "Epoch 10/50\n",
      "90/90 [==============================] - 12s 133ms/step - loss: 0.0121 - accuracy: 0.0276 - val_loss: 0.0137 - val_accuracy: 0.0287\n",
      "Epoch 11/50\n",
      "90/90 [==============================] - 12s 131ms/step - loss: 0.0113 - accuracy: 0.0276 - val_loss: 0.0129 - val_accuracy: 0.0287\n",
      "Epoch 12/50\n",
      "90/90 [==============================] - 12s 135ms/step - loss: 0.0106 - accuracy: 0.0276 - val_loss: 0.0122 - val_accuracy: 0.0287\n",
      "Epoch 13/50\n",
      "90/90 [==============================] - 12s 133ms/step - loss: 0.0101 - accuracy: 0.0276 - val_loss: 0.0117 - val_accuracy: 0.0287\n",
      "Epoch 14/50\n",
      "90/90 [==============================] - 12s 131ms/step - loss: 0.0097 - accuracy: 0.0276 - val_loss: 0.0112 - val_accuracy: 0.0287\n",
      "Epoch 15/50\n",
      "90/90 [==============================] - 12s 130ms/step - loss: 0.0093 - accuracy: 0.0276 - val_loss: 0.0108 - val_accuracy: 0.0287\n",
      "Epoch 16/50\n",
      "90/90 [==============================] - 12s 131ms/step - loss: 0.0090 - accuracy: 0.0276 - val_loss: 0.0104 - val_accuracy: 0.0287\n",
      "Epoch 17/50\n",
      "90/90 [==============================] - 12s 133ms/step - loss: 0.0087 - accuracy: 0.0276 - val_loss: 0.0101 - val_accuracy: 0.0287\n",
      "Epoch 18/50\n",
      "90/90 [==============================] - 12s 132ms/step - loss: 0.0085 - accuracy: 0.0276 - val_loss: 0.0098 - val_accuracy: 0.0287\n",
      "Epoch 19/50\n",
      "90/90 [==============================] - 12s 132ms/step - loss: 0.0083 - accuracy: 0.0276 - val_loss: 0.0096 - val_accuracy: 0.0287\n",
      "Epoch 20/50\n",
      "90/90 [==============================] - 12s 133ms/step - loss: 0.0081 - accuracy: 0.0276 - val_loss: 0.0093 - val_accuracy: 0.0287\n",
      "Epoch 21/50\n",
      "90/90 [==============================] - 12s 133ms/step - loss: 0.0080 - accuracy: 0.0276 - val_loss: 0.0091 - val_accuracy: 0.0287\n",
      "Epoch 22/50\n",
      "90/90 [==============================] - 12s 131ms/step - loss: 0.0078 - accuracy: 0.0276 - val_loss: 0.0089 - val_accuracy: 0.0287\n",
      "Epoch 23/50\n",
      "90/90 [==============================] - 12s 132ms/step - loss: 0.0077 - accuracy: 0.0277 - val_loss: 0.0088 - val_accuracy: 0.0287\n",
      "Epoch 24/50\n",
      "90/90 [==============================] - 12s 131ms/step - loss: 0.0075 - accuracy: 0.0277 - val_loss: 0.0086 - val_accuracy: 0.0288\n",
      "Epoch 25/50\n",
      "90/90 [==============================] - 12s 131ms/step - loss: 0.0074 - accuracy: 0.0279 - val_loss: 0.0084 - val_accuracy: 0.0289\n",
      "Epoch 26/50\n",
      "90/90 [==============================] - 12s 133ms/step - loss: 0.0073 - accuracy: 0.0279 - val_loss: 0.0083 - val_accuracy: 0.0293\n",
      "Epoch 27/50\n",
      "90/90 [==============================] - 12s 138ms/step - loss: 0.0072 - accuracy: 0.0280 - val_loss: 0.0082 - val_accuracy: 0.0290\n",
      "Epoch 28/50\n",
      "90/90 [==============================] - 12s 137ms/step - loss: 0.0071 - accuracy: 0.0280 - val_loss: 0.0080 - val_accuracy: 0.0290\n",
      "Epoch 29/50\n",
      "90/90 [==============================] - 14s 154ms/step - loss: 0.0070 - accuracy: 0.0279 - val_loss: 0.0079 - val_accuracy: 0.0290\n",
      "Epoch 30/50\n",
      "90/90 [==============================] - 12s 136ms/step - loss: 0.0069 - accuracy: 0.0279 - val_loss: 0.0078 - val_accuracy: 0.0294\n",
      "Epoch 31/50\n",
      "90/90 [==============================] - 12s 132ms/step - loss: 0.0068 - accuracy: 0.0280 - val_loss: 0.0077 - val_accuracy: 0.0296\n",
      "Epoch 32/50\n",
      "90/90 [==============================] - 12s 134ms/step - loss: 0.0067 - accuracy: 0.0285 - val_loss: 0.0076 - val_accuracy: 0.0300\n",
      "Epoch 33/50\n",
      "90/90 [==============================] - 12s 133ms/step - loss: 0.0066 - accuracy: 0.0287 - val_loss: 0.0075 - val_accuracy: 0.0301\n",
      "Epoch 34/50\n",
      "90/90 [==============================] - 13s 141ms/step - loss: 0.0066 - accuracy: 0.0291 - val_loss: 0.0075 - val_accuracy: 0.0305\n",
      "Epoch 35/50\n",
      "90/90 [==============================] - 12s 136ms/step - loss: 0.0065 - accuracy: 0.0294 - val_loss: 0.0074 - val_accuracy: 0.0310\n",
      "Epoch 36/50\n",
      "90/90 [==============================] - 12s 133ms/step - loss: 0.0064 - accuracy: 0.0297 - val_loss: 0.0073 - val_accuracy: 0.0313\n",
      "Epoch 37/50\n",
      "90/90 [==============================] - 12s 136ms/step - loss: 0.0063 - accuracy: 0.0301 - val_loss: 0.0072 - val_accuracy: 0.0320\n",
      "Epoch 38/50\n",
      "90/90 [==============================] - 13s 140ms/step - loss: 0.0063 - accuracy: 0.0304 - val_loss: 0.0071 - val_accuracy: 0.0323\n",
      "Epoch 39/50\n",
      "90/90 [==============================] - 12s 138ms/step - loss: 0.0062 - accuracy: 0.0310 - val_loss: 0.0071 - val_accuracy: 0.0334\n",
      "Epoch 40/50\n",
      "90/90 [==============================] - 12s 132ms/step - loss: 0.0061 - accuracy: 0.0316 - val_loss: 0.0070 - val_accuracy: 0.0339\n",
      "Epoch 41/50\n",
      "90/90 [==============================] - 12s 136ms/step - loss: 0.0061 - accuracy: 0.0324 - val_loss: 0.0070 - val_accuracy: 0.0346\n",
      "Epoch 42/50\n",
      "90/90 [==============================] - 12s 135ms/step - loss: 0.0060 - accuracy: 0.0330 - val_loss: 0.0069 - val_accuracy: 0.0365\n",
      "Epoch 43/50\n",
      "90/90 [==============================] - 12s 139ms/step - loss: 0.0059 - accuracy: 0.0349 - val_loss: 0.0068 - val_accuracy: 0.0372\n",
      "Epoch 44/50\n",
      "90/90 [==============================] - 12s 134ms/step - loss: 0.0059 - accuracy: 0.0359 - val_loss: 0.0068 - val_accuracy: 0.0394\n",
      "Epoch 45/50\n",
      "90/90 [==============================] - 12s 132ms/step - loss: 0.0058 - accuracy: 0.0372 - val_loss: 0.0067 - val_accuracy: 0.0401\n",
      "Epoch 46/50\n",
      "90/90 [==============================] - 12s 133ms/step - loss: 0.0058 - accuracy: 0.0388 - val_loss: 0.0067 - val_accuracy: 0.0421\n",
      "Epoch 47/50\n",
      "90/90 [==============================] - 12s 134ms/step - loss: 0.0057 - accuracy: 0.0417 - val_loss: 0.0066 - val_accuracy: 0.0445\n",
      "Epoch 48/50\n",
      "90/90 [==============================] - 12s 135ms/step - loss: 0.0056 - accuracy: 0.0449 - val_loss: 0.0066 - val_accuracy: 0.0494\n",
      "Epoch 49/50\n",
      "90/90 [==============================] - 12s 132ms/step - loss: 0.0056 - accuracy: 0.0479 - val_loss: 0.0065 - val_accuracy: 0.0499\n",
      "Epoch 50/50\n",
      "90/90 [==============================] - 12s 132ms/step - loss: 0.0055 - accuracy: 0.0506 - val_loss: 0.0065 - val_accuracy: 0.0527\n"
     ]
    },
    {
     "data": {
      "text/plain": [
       "<tensorflow.python.keras.callbacks.History at 0x7faaa0088550>"
      ]
     },
     "execution_count": 22,
     "metadata": {},
     "output_type": "execute_result"
    }
   ],
   "source": [
    "autoencoder.fit(XTrain, XTrain,\n",
    "                epochs=50,\n",
    "                batch_size=256,\n",
    "                shuffle=True,\n",
    "                validation_data=(yTrain, yTrain))"
   ]
  },
  {
   "cell_type": "code",
   "execution_count": 23,
   "metadata": {},
   "outputs": [],
   "source": [
    "X_Train_bar = autoencoder.predict(XTrain)"
   ]
  },
  {
   "cell_type": "code",
   "execution_count": 24,
   "metadata": {},
   "outputs": [
    {
     "data": {
      "text/plain": [
       "array([[5.2712072e-05, 8.6672451e-05, 4.8034787e-03, ..., 4.4410073e-05,\n",
       "        1.0896446e-04, 2.5331974e-04],\n",
       "       [5.8656278e-06, 1.1335866e-05, 3.7321448e-04, ..., 5.3385506e-06,\n",
       "        6.5666736e-06, 5.1692128e-04],\n",
       "       [1.0886843e-05, 1.8191684e-05, 2.0486116e-03, ..., 1.6892274e-05,\n",
       "        3.1197887e-05, 5.2363001e-05],\n",
       "       ...,\n",
       "       [8.7902023e-05, 8.1919236e-05, 5.4753423e-03, ..., 6.7659632e-05,\n",
       "        8.3736588e-05, 2.1392107e-04],\n",
       "       [7.4370860e-06, 9.2977580e-06, 3.5735077e-01, ..., 6.6750026e-06,\n",
       "        1.5708376e-05, 2.7961711e-05],\n",
       "       [6.1974330e-05, 1.5228987e-04, 4.4672120e-01, ..., 1.4190078e-03,\n",
       "        1.6039610e-04, 7.9780817e-04]], dtype=float32)"
      ]
     },
     "execution_count": 24,
     "metadata": {},
     "output_type": "execute_result"
    }
   ],
   "source": [
    "X_Train_bar"
   ]
  },
  {
   "cell_type": "code",
   "execution_count": 25,
   "metadata": {},
   "outputs": [],
   "source": [
    "## Save the model to be used by the Feature Selection model\n",
    "autoencoder.save('/home/pprusty/data_science/Project/pandas_impl/BalancedResult/autoencoder.model')"
   ]
  },
  {
   "cell_type": "markdown",
   "metadata": {},
   "source": [
    "### Plot Accuracy and Loss"
   ]
  },
  {
   "cell_type": "code",
   "execution_count": 26,
   "metadata": {},
   "outputs": [],
   "source": [
    "from matplotlib import pyplot as plt"
   ]
  },
  {
   "cell_type": "code",
   "execution_count": 28,
   "metadata": {},
   "outputs": [],
   "source": [
    "from matplotlib import rcParams"
   ]
  },
  {
   "cell_type": "code",
   "execution_count": null,
   "metadata": {},
   "outputs": [],
   "source": [
    "rcParams.update({'figure.autolayout': True})\n",
    "plt.tight_layout()\n",
    "plt.plot(autoencoder.history.history['loss'])\n",
    "plt.rc('font', family='serif')\n",
    "plt.rc('xtick', labelsize=12) \n",
    "plt.rc('ytick', labelsize=12) \n",
    "plt.title('Autoencoder Loss', fontsize=12)\n",
    "plt.ylabel('Loss', fontsize=12)\n",
    "plt.xlabel('Epoch', fontsize=12)\n",
    "plt.savefig('autoencoder_loss.pdf')\n",
    "plt.show()"
   ]
  },
  {
   "cell_type": "code",
   "execution_count": null,
   "metadata": {},
   "outputs": [],
   "source": [
    "plt.plot(autoencoder.history.history['accuracy'])\n",
    "plt.rc('font', family='serif')\n",
    "plt.rc('xtick', labelsize=12) \n",
    "plt.rc('ytick', labelsize=12) \n",
    "plt.title('Autoencoder Accuracy', fontsize=12)\n",
    "plt.ylabel('Accuracy', fontsize=12)\n",
    "plt.xlabel('Epoch', fontsize=12)\n",
    "#plt.legend(['train'], loc='upper right')\n",
    "plt.savefig('autoencoder_accuracy.pdf')\n",
    "plt.show()"
   ]
  },
  {
   "cell_type": "markdown",
   "metadata": {},
   "source": [
    "## Create a classifier"
   ]
  },
  {
   "cell_type": "code",
   "execution_count": 36,
   "metadata": {},
   "outputs": [],
   "source": [
    "from keras.models import Model, load_model\n",
    "from keras.preprocessing import image"
   ]
  },
  {
   "cell_type": "code",
   "execution_count": 37,
   "metadata": {},
   "outputs": [],
   "source": [
    "## Load the weights from the Dense Layer\n",
    "testModel =  Model(inputs=autoencoder.input, outputs=autoencoder.get_layer('dense').output)"
   ]
  },
  {
   "cell_type": "code",
   "execution_count": 38,
   "metadata": {},
   "outputs": [],
   "source": [
    "## x stores the embeddings\n",
    "x = testModel.predict(input_np_array)"
   ]
  },
  {
   "cell_type": "code",
   "execution_count": 39,
   "metadata": {},
   "outputs": [
    {
     "data": {
      "text/plain": [
       "(45996, 100)"
      ]
     },
     "execution_count": 39,
     "metadata": {},
     "output_type": "execute_result"
    }
   ],
   "source": [
    "## For each patient now a 100 feature vector is generated\n",
    "x.shape"
   ]
  },
  {
   "cell_type": "code",
   "execution_count": 40,
   "metadata": {},
   "outputs": [],
   "source": [
    "X = x"
   ]
  },
  {
   "cell_type": "code",
   "execution_count": 41,
   "metadata": {},
   "outputs": [
    {
     "data": {
      "text/plain": [
       "Index(['person_id', 'label', 'diag_med'], dtype='object')"
      ]
     },
     "execution_count": 41,
     "metadata": {},
     "output_type": "execute_result"
    }
   ],
   "source": [
    "df.columns"
   ]
  },
  {
   "cell_type": "code",
   "execution_count": 42,
   "metadata": {},
   "outputs": [],
   "source": [
    "y = df['label']"
   ]
  },
  {
   "cell_type": "code",
   "execution_count": 43,
   "metadata": {},
   "outputs": [],
   "source": [
    "from sklearn.model_selection import train_test_split"
   ]
  },
  {
   "cell_type": "code",
   "execution_count": 44,
   "metadata": {},
   "outputs": [],
   "source": [
    "## Train test split\n",
    "X_train, X_test, y_train, y_test = train_test_split(X, y, test_size=0.2, random_state=42)\n"
   ]
  },
  {
   "cell_type": "markdown",
   "metadata": {},
   "source": [
    "### use the classification model"
   ]
  },
  {
   "cell_type": "markdown",
   "metadata": {},
   "source": [
    "# KNN"
   ]
  },
  {
   "cell_type": "code",
   "execution_count": 45,
   "metadata": {},
   "outputs": [],
   "source": [
    "from sklearn.preprocessing import StandardScaler\n",
    "scaler = StandardScaler()\n",
    "scaler.fit(X_train)\n",
    "\n",
    "X_train = scaler.transform(X_train)\n",
    "X_test = scaler.transform(X_test)\n"
   ]
  },
  {
   "cell_type": "code",
   "execution_count": 46,
   "metadata": {},
   "outputs": [
    {
     "data": {
      "text/plain": [
       "KNeighborsClassifier()"
      ]
     },
     "execution_count": 46,
     "metadata": {},
     "output_type": "execute_result"
    }
   ],
   "source": [
    "from sklearn.neighbors import KNeighborsClassifier\n",
    "classifier = KNeighborsClassifier(n_neighbors=5)\n",
    "classifier.fit(X_train, y_train)"
   ]
  },
  {
   "cell_type": "code",
   "execution_count": 47,
   "metadata": {},
   "outputs": [],
   "source": [
    "y_pred = classifier.predict(X_test)"
   ]
  },
  {
   "cell_type": "code",
   "execution_count": 48,
   "metadata": {},
   "outputs": [
    {
     "name": "stdout",
     "output_type": "stream",
     "text": [
      "[[3466 1120]\n",
      " [1238 3376]]\n",
      "              precision    recall  f1-score   support\n",
      "\n",
      "           0       0.74      0.76      0.75      4586\n",
      "           1       0.75      0.73      0.74      4614\n",
      "\n",
      "    accuracy                           0.74      9200\n",
      "   macro avg       0.74      0.74      0.74      9200\n",
      "weighted avg       0.74      0.74      0.74      9200\n",
      "\n"
     ]
    }
   ],
   "source": [
    "from sklearn.metrics import classification_report, confusion_matrix\n",
    "print(confusion_matrix(y_test, y_pred))\n",
    "print(classification_report(y_test, y_pred))"
   ]
  },
  {
   "cell_type": "code",
   "execution_count": 49,
   "metadata": {},
   "outputs": [],
   "source": [
    "from sklearn.metrics import accuracy_score"
   ]
  },
  {
   "cell_type": "code",
   "execution_count": 50,
   "metadata": {},
   "outputs": [
    {
     "data": {
      "text/plain": [
       "0.7436956521739131"
      ]
     },
     "execution_count": 50,
     "metadata": {},
     "output_type": "execute_result"
    }
   ],
   "source": [
    "accuracy_score(y_test, y_pred)"
   ]
  },
  {
   "cell_type": "code",
   "execution_count": 51,
   "metadata": {},
   "outputs": [
    {
     "data": {
      "text/plain": [
       "KNeighborsClassifier(n_neighbors=3)"
      ]
     },
     "execution_count": 51,
     "metadata": {},
     "output_type": "execute_result"
    }
   ],
   "source": [
    "classifier = KNeighborsClassifier(n_neighbors=3)\n",
    "classifier.fit(X_train, y_train)"
   ]
  },
  {
   "cell_type": "code",
   "execution_count": 52,
   "metadata": {},
   "outputs": [],
   "source": [
    "y_pred = classifier.predict(X_test)"
   ]
  },
  {
   "cell_type": "code",
   "execution_count": 53,
   "metadata": {},
   "outputs": [
    {
     "data": {
      "text/plain": [
       "0.7316304347826087"
      ]
     },
     "execution_count": 53,
     "metadata": {},
     "output_type": "execute_result"
    }
   ],
   "source": [
    "accuracy_score(y_test, y_pred)"
   ]
  },
  {
   "cell_type": "markdown",
   "metadata": {},
   "source": [
    "### Tune HyperParameters of KNN"
   ]
  },
  {
   "cell_type": "code",
   "execution_count": 54,
   "metadata": {},
   "outputs": [],
   "source": [
    "lst=[2, 5, 10, 15, 20, 25]\n",
    "acc_lst=[]\n",
    "for n_neighbors in lst:\n",
    "    classifier = KNeighborsClassifier(n_neighbors)\n",
    "    classifier.fit(X_train, y_train)\n",
    "    y_pred = classifier.predict(X_test)\n",
    "    acc_lst.append(accuracy_score(y_test, y_pred))"
   ]
  },
  {
   "cell_type": "code",
   "execution_count": 55,
   "metadata": {},
   "outputs": [
    {
     "data": {
      "text/plain": [
       "[0.6904347826086956,\n",
       " 0.7436956521739131,\n",
       " 0.7534782608695653,\n",
       " 0.7639130434782608,\n",
       " 0.7613043478260869,\n",
       " 0.7664130434782609]"
      ]
     },
     "execution_count": 55,
     "metadata": {},
     "output_type": "execute_result"
    }
   ],
   "source": [
    "acc_lst"
   ]
  },
  {
   "cell_type": "code",
   "execution_count": 56,
   "metadata": {},
   "outputs": [
    {
     "data": {
      "image/png": "[encoded data removed]",
      "text/plain": [
       "<Figure size 432x288 with 1 Axes>"
      ]
     },
     "metadata": {
      "needs_background": "light"
     },
     "output_type": "display_data"
    }
   ],
   "source": [
    "plt.plot(lst,acc_lst)\n",
    "plt.rc('font', family='serif')\n",
    "plt.rc('xtick', labelsize=12) \n",
    "plt.rc('ytick', labelsize=12) \n",
    "plt.title('KNN Accuracy', fontsize=12)\n",
    "#plt.xticks(lst)\n",
    "plt.ylabel('Accuracy', fontsize=12)\n",
    "plt.xlabel('Nearest Neighbors', fontsize=12)\n",
    "#plt.legend(['train'], loc='upper right')\n",
    "plt.savefig('knn_accuracy1.pdf')\n",
    "plt.show()"
   ]
  },
  {
   "cell_type": "markdown",
   "metadata": {},
   "source": [
    "## Naive Bayes Classifier"
   ]
  },
  {
   "cell_type": "code",
   "execution_count": 57,
   "metadata": {},
   "outputs": [
    {
     "data": {
      "text/plain": [
       "0.6659782608695652"
      ]
     },
     "execution_count": 57,
     "metadata": {},
     "output_type": "execute_result"
    }
   ],
   "source": [
    "from sklearn.naive_bayes import GaussianNB\n",
    "classifier = GaussianNB()\n",
    "classifier.fit(X_train, y_train)\n",
    "y_pred = classifier.predict(X_test)\n",
    "accuracy_score(y_test, y_pred)"
   ]
  },
  {
   "cell_type": "markdown",
   "metadata": {},
   "source": [
    "## Decision Tree Classifier"
   ]
  },
  {
   "cell_type": "code",
   "execution_count": 58,
   "metadata": {},
   "outputs": [
    {
     "data": {
      "text/plain": [
       "0.731304347826087"
      ]
     },
     "execution_count": 58,
     "metadata": {},
     "output_type": "execute_result"
    }
   ],
   "source": [
    "from sklearn import tree\n",
    "\n",
    "classifier = tree.DecisionTreeClassifier(max_depth=10)\n",
    "classifier.fit(X_train, y_train)\n",
    "y_pred = classifier.predict(X_test)\n",
    "accuracy_score(y_test, y_pred)\n"
   ]
  },
  {
   "cell_type": "code",
   "execution_count": 59,
   "metadata": {},
   "outputs": [],
   "source": [
    "ls_dtree = [2, 4, 6, 8, 10, 15, 20]\n",
    "acc_lst_dtree = []\n",
    "for depth in ls_dtree:\n",
    "    classifier = tree.DecisionTreeClassifier(max_depth=depth)\n",
    "    classifier.fit(X_train, y_train)\n",
    "    y_pred = classifier.predict(X_test)\n",
    "    acc_lst_dtree.append(accuracy_score(y_test, y_pred))\n",
    "\n"
   ]
  },
  {
   "cell_type": "code",
   "execution_count": 60,
   "metadata": {},
   "outputs": [
    {
     "data": {
      "text/plain": [
       "[0.6590217391304348,\n",
       " 0.7242391304347826,\n",
       " 0.7359782608695652,\n",
       " 0.7375,\n",
       " 0.731304347826087,\n",
       " 0.7096739130434783,\n",
       " 0.6880434782608695]"
      ]
     },
     "execution_count": 60,
     "metadata": {},
     "output_type": "execute_result"
    }
   ],
   "source": [
    "acc_lst_dtree"
   ]
  },
  {
   "cell_type": "code",
   "execution_count": 61,
   "metadata": {},
   "outputs": [
    {
     "data": {
      "image/png": "[encoded data removed]",
      "text/plain": [
       "<Figure size 432x288 with 1 Axes>"
      ]
     },
     "metadata": {
      "needs_background": "light"
     },
     "output_type": "display_data"
    }
   ],
   "source": [
    "plt.plot(ls_dtree,acc_lst_dtree)\n",
    "plt.rc('font', family='serif')\n",
    "plt.rc('xtick', labelsize=12) \n",
    "plt.rc('ytick', labelsize=12) \n",
    "plt.title('Decision Tree Accuracy', fontsize=12)\n",
    "#plt.xticks(lst)\n",
    "plt.ylabel('Accuracy', fontsize=12)\n",
    "plt.xlabel('Depth', fontsize=12)\n",
    "#plt.legend(['train'], loc='upper right')\n",
    "plt.savefig('dt_accuracy1.pdf')\n",
    "plt.show()"
   ]
  },
  {
   "cell_type": "markdown",
   "metadata": {},
   "source": [
    "## Compare Classifiers Based on the F1 Score, Precision, Recall and Accuracy"
   ]
  },
  {
   "cell_type": "code",
   "execution_count": 79,
   "metadata": {},
   "outputs": [
    {
     "name": "stdout",
     "output_type": "stream",
     "text": [
      "F1 Score: 0.7389237086665225\n",
      "Precision Score: 0.7368534482758621\n",
      "Recall Score: 0.7410056350238405\n",
      "Accuracy: 0.7373913043478261\n"
     ]
    }
   ],
   "source": [
    "classifier = tree.DecisionTreeClassifier(max_depth=8)\n",
    "classifier.fit(X_train, y_train)\n",
    "y_pred = classifier.predict(X_test)\n",
    "\n",
    "print('F1 Score: ' + str(f1_score(y_test, y_pred)))\n",
    "print('Precision Score: ' + str(precision_score(y_test, y_pred)))\n",
    "print('Recall Score: ' + str(recall_score(y_test, y_pred)))\n",
    "print('Accuracy: ' + str(accuracy_score(y_test, y_pred)))"
   ]
  },
  {
   "cell_type": "code",
   "execution_count": 80,
   "metadata": {},
   "outputs": [
    {
     "name": "stdout",
     "output_type": "stream",
     "text": [
      "F1 Score: 0.6122397476340694\n",
      "Precision Score: 0.7327091513138024\n",
      "Recall Score: 0.5257910706545297\n",
      "Accuracy: 0.6659782608695652\n"
     ]
    }
   ],
   "source": [
    "classifier = GaussianNB()\n",
    "classifier.fit(X_train, y_train)\n",
    "y_pred = classifier.predict(X_test)\n",
    "\n",
    "print('F1 Score: ' + str(f1_score(y_test, y_pred)))\n",
    "print('Precision Score: ' + str(precision_score(y_test, y_pred)))\n",
    "print('Recall Score: ' + str(recall_score(y_test, y_pred)))\n",
    "print('Accuracy: ' + str(accuracy_score(y_test, y_pred)))"
   ]
  },
  {
   "cell_type": "code",
   "execution_count": 73,
   "metadata": {},
   "outputs": [],
   "source": [
    "from sklearn.metrics import f1_score\n",
    "from sklearn.metrics import precision_score\n",
    "from sklearn.metrics import recall_score\n",
    "from sklearn.metrics import accuracy_score"
   ]
  },
  {
   "cell_type": "code",
   "execution_count": 64,
   "metadata": {},
   "outputs": [
    {
     "name": "stdout",
     "output_type": "stream",
     "text": [
      "              precision    recall  f1-score   support\n",
      "\n",
      "           0       0.75      0.79      0.77      4586\n",
      "           1       0.78      0.75      0.76      4614\n",
      "\n",
      "    accuracy                           0.77      9200\n",
      "   macro avg       0.77      0.77      0.77      9200\n",
      "weighted avg       0.77      0.77      0.77      9200\n",
      "\n"
     ]
    }
   ],
   "source": [
    "classifier = KNeighborsClassifier(25)\n",
    "classifier.fit(X_train, y_train)\n",
    "y_pred = classifier.predict(X_test)\n",
    "print(classification_report(y_test, y_pred))"
   ]
  },
  {
   "cell_type": "code",
   "execution_count": 78,
   "metadata": {},
   "outputs": [
    {
     "name": "stdout",
     "output_type": "stream",
     "text": [
      "F1 Score: 0.7620418558299191\n",
      "Precision Score: 0.7790355444872085\n",
      "Recall Score: 0.7457737321196359\n",
      "Accuracy: 0.7664130434782609\n"
     ]
    }
   ],
   "source": [
    "print('F1 Score: ' + str(f1_score(y_test, y_pred)))\n",
    "print('Precision Score: ' + str(precision_score(y_test, y_pred)))\n",
    "print('Recall Score: ' + str(recall_score(y_test, y_pred)))\n",
    "print('Accuracy: ' + str(accuracy_score(y_test, y_pred)))\n"
   ]
  },
  {
   "cell_type": "code",
   "execution_count": null,
   "metadata": {},
   "outputs": [],
   "source": []
  }
 ],
 "metadata": {
  "kernelspec": {
   "display_name": "Python 3",
   "language": "python",
   "name": "python3"
  },
  "language_info": {
   "codemirror_mode": {
    "name": "ipython",
    "version": 3
   },
   "file_extension": ".py",
   "mimetype": "text/x-python",
   "name": "python",
   "nbconvert_exporter": "python",
   "pygments_lexer": "ipython3",
   "version": "3.8.2"
  }
 },
 "nbformat": 4,
 "nbformat_minor": 2
}
