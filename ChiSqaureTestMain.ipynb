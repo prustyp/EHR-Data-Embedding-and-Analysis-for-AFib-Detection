{
 "cells": [
  {
   "cell_type": "markdown",
   "metadata": {},
   "source": [
    "## This Notebook finds the ChiSquared Test P values for each feature vector in AFIB_100 dataset"
   ]
  },
  {
   "cell_type": "markdown",
   "metadata": {},
   "source": [
    "### Imports"
   ]
  },
  {
   "cell_type": "code",
   "execution_count": 1,
   "metadata": {},
   "outputs": [],
   "source": [
    "import pandas as pd\n",
    "import pickle\n",
    "from pandarallel import pandarallel\n",
    "from scipy import stats\n",
    "import time"
   ]
  },
  {
   "cell_type": "code",
   "execution_count": 2,
   "metadata": {},
   "outputs": [],
   "source": [
    "## Read the dataset\n",
    "df=pd.read_csv(\"afib100.csv\")"
   ]
  },
  {
   "cell_type": "code",
   "execution_count": 3,
   "metadata": {},
   "outputs": [
    {
     "data": {
      "text/plain": [
       "Index(['person_id', 'label', 'diag_med'], dtype='object')"
      ]
     },
     "execution_count": 3,
     "metadata": {},
     "output_type": "execute_result"
    }
   ],
   "source": [
    "df.columns"
   ]
  },
  {
   "cell_type": "code",
   "execution_count": null,
   "metadata": {},
   "outputs": [],
   "source": [
    "# Create a dictionary of the diag_med id counts, where key is the id and the value is its count\n",
    "diag_med_key_count = {}\n",
    "for index, row in df.iterrows():\n",
    "    # Get the list of diag_med values for each patient\n",
    "    list_ids = row['diag_med'].split(',')\n",
    "    # We want only unique values, not count multiple times for one patient\n",
    "    list_id_set = set(list_ids)\n",
    "    for diag_med_id in list_id_set:\n",
    "        # For every id increament the count in the dictionary\n",
    "        #int_id = int(diag_med_id)\n",
    "        if diag_med_id not in diag_med_key_count:\n",
    "            diag_med_key_count[diag_med_id] = 0\n",
    "        diag_med_key_count[diag_med_id] = diag_med_key_count[diag_med_id] + 1"
   ]
  },
  {
   "cell_type": "code",
   "execution_count": null,
   "metadata": {},
   "outputs": [],
   "source": [
    "diag_med_key_set = set()\n",
    "for index, row in df.iterrows():\n",
    "    # Get the list of diag_med values for each patient\n",
    "    list_ids = row['diag_med'].split(',')\n",
    "    # We want only unique values, not count multiple times for one patient\n",
    "    list_id_set = set(list_ids)\n",
    "    diag_med_key_set.update(list_id_set)"
   ]
  },
  {
   "cell_type": "code",
   "execution_count": null,
   "metadata": {},
   "outputs": [],
   "source": [
    "len(diag_med_key_set)"
   ]
  },
  {
   "cell_type": "code",
   "execution_count": 4,
   "metadata": {},
   "outputs": [],
   "source": [
    "diag_med_count_df = diag_med_key_count"
   ]
  },
  {
   "cell_type": "code",
   "execution_count": 5,
   "metadata": {},
   "outputs": [
    {
     "data": {
      "text/html": [
       "<div>\n",
       "<style scoped>\n",
       "    .dataframe tbody tr th:only-of-type {\n",
       "        vertical-align: middle;\n",
       "    }\n",
       "\n",
       "    .dataframe tbody tr th {\n",
       "        vertical-align: top;\n",
       "    }\n",
       "\n",
       "    .dataframe thead th {\n",
       "        text-align: right;\n",
       "    }\n",
       "</style>\n",
       "<table border=\"1\" class=\"dataframe\">\n",
       "  <thead>\n",
       "    <tr style=\"text-align: right;\">\n",
       "      <th></th>\n",
       "      <th>id</th>\n",
       "      <th>count</th>\n",
       "    </tr>\n",
       "  </thead>\n",
       "  <tbody>\n",
       "    <tr>\n",
       "      <th>0</th>\n",
       "      <td>0</td>\n",
       "      <td>1039138</td>\n",
       "    </tr>\n",
       "    <tr>\n",
       "      <th>1</th>\n",
       "      <td>35605482</td>\n",
       "      <td>365583</td>\n",
       "    </tr>\n",
       "    <tr>\n",
       "      <th>2</th>\n",
       "      <td>40220357</td>\n",
       "      <td>360139</td>\n",
       "    </tr>\n",
       "    <tr>\n",
       "      <th>3</th>\n",
       "      <td>19070869</td>\n",
       "      <td>316448</td>\n",
       "    </tr>\n",
       "    <tr>\n",
       "      <th>4</th>\n",
       "      <td>320128</td>\n",
       "      <td>316394</td>\n",
       "    </tr>\n",
       "    <tr>\n",
       "      <th>...</th>\n",
       "      <td>...</td>\n",
       "      <td>...</td>\n",
       "    </tr>\n",
       "    <tr>\n",
       "      <th>27551</th>\n",
       "      <td>704988</td>\n",
       "      <td>1</td>\n",
       "    </tr>\n",
       "    <tr>\n",
       "      <th>27552</th>\n",
       "      <td>74808</td>\n",
       "      <td>1</td>\n",
       "    </tr>\n",
       "    <tr>\n",
       "      <th>27553</th>\n",
       "      <td>19123015</td>\n",
       "      <td>1</td>\n",
       "    </tr>\n",
       "    <tr>\n",
       "      <th>27554</th>\n",
       "      <td>19112868</td>\n",
       "      <td>1</td>\n",
       "    </tr>\n",
       "    <tr>\n",
       "      <th>27555</th>\n",
       "      <td>432254</td>\n",
       "      <td>1</td>\n",
       "    </tr>\n",
       "  </tbody>\n",
       "</table>\n",
       "<p>27556 rows × 2 columns</p>\n",
       "</div>"
      ],
      "text/plain": [
       "             id    count\n",
       "0             0  1039138\n",
       "1      35605482   365583\n",
       "2      40220357   360139\n",
       "3      19070869   316448\n",
       "4        320128   316394\n",
       "...         ...      ...\n",
       "27551    704988        1\n",
       "27552     74808        1\n",
       "27553  19123015        1\n",
       "27554  19112868        1\n",
       "27555    432254        1\n",
       "\n",
       "[27556 rows x 2 columns]"
      ]
     },
     "execution_count": 5,
     "metadata": {},
     "output_type": "execute_result"
    }
   ],
   "source": [
    "diag_med_count_df"
   ]
  },
  {
   "cell_type": "code",
   "execution_count": 6,
   "metadata": {},
   "outputs": [],
   "source": [
    "## Find out the diag_med ids which has count more than 1000\n",
    "diag_med_count_df_1000 = diag_med_count_df[diag_med_count_df['count'] > 1000]"
   ]
  },
  {
   "cell_type": "code",
   "execution_count": 7,
   "metadata": {},
   "outputs": [
    {
     "data": {
      "text/plain": [
       "(4700, 2)"
      ]
     },
     "execution_count": 7,
     "metadata": {},
     "output_type": "execute_result"
    }
   ],
   "source": [
    "diag_med_count_df_1000.shape"
   ]
  },
  {
   "cell_type": "code",
   "execution_count": 8,
   "metadata": {},
   "outputs": [],
   "source": [
    "diag_med_count_df_30000 = diag_med_count_df[diag_med_count_df['count'] > 30000]"
   ]
  },
  {
   "cell_type": "code",
   "execution_count": 9,
   "metadata": {},
   "outputs": [
    {
     "data": {
      "text/plain": [
       "(338, 2)"
      ]
     },
     "execution_count": 9,
     "metadata": {},
     "output_type": "execute_result"
    }
   ],
   "source": [
    "diag_med_count_df_30000.shape"
   ]
  },
  {
   "cell_type": "markdown",
   "metadata": {},
   "source": [
    "### Use diag_med_count_df_1000 as input for ChiSquaredTest"
   ]
  },
  {
   "cell_type": "code",
   "execution_count": 10,
   "metadata": {},
   "outputs": [
    {
     "name": "stdout",
     "output_type": "stream",
     "text": [
      "INFO: Pandarallel will run on 8 workers.\n",
      "INFO: Pandarallel will use Memory file system to transfer data between the main process and workers.\n"
     ]
    }
   ],
   "source": [
    "# We would like to do it in parallel \n",
    "pandarallel.initialize()"
   ]
  },
  {
   "cell_type": "code",
   "execution_count": 14,
   "metadata": {},
   "outputs": [],
   "source": [
    "\n",
    "STAT_KEY = 'stat'\n",
    "P_VALUE_KEY = 'p_value'\n",
    "## Creates a dataframe for one diag_med id from diag_med_count_df_1000 \n",
    "def create_df_for_key(str_key, origin_df):\n",
    "    df_new = pd.DataFrame()\n",
    "    df_new['person_id'] = origin_df['person_id']\n",
    "    df_new['label'] = origin_df['label']\n",
    "    df_new['diag_med'] = origin_df['diag_med']\n",
    "    df_new[str_key] = 0\n",
    "    def if_exists(list_diag_med):\n",
    "        list_id_set = set(list_diag_med.split(','))\n",
    "        if str_key in list_id_set:\n",
    "            return 1\n",
    "        else:\n",
    "            return 0\n",
    "\n",
    "    df_new[str_key] = df_new['diag_med'].parallel_apply(if_exists)\n",
    "    df_new.drop(['diag_med'], axis = 1, inplace = True)\n",
    "    #df_new.to_pickle('data_partition/df_' + str_key+ '.pickle')\n",
    "   \n",
    "    return df_new\n",
    "\n",
    "\n",
    "## Finds the actual P values for each diag_med ids in diag_med_count_df_1000 and store it in chi_sqaure_val_dict_1000\n",
    "## which will be lated used for Analysis\n",
    "def find_chi_square_value(diag_med_count_df):\n",
    "    chi_sqaure_val_dict = {}\n",
    "    count = 0\n",
    "    start_time = time.time()\n",
    "    for str_key in diag_med_count_df['id']:\n",
    "        #print(count)\n",
    "        \n",
    "        df_fetch = create_df_for_key(str_key,df)\n",
    "        cross_tab = pd.crosstab(df_fetch['label'], df_fetch[str_key], margins=True)\n",
    "        stat, p, dof, expected = stats.chi2_contingency(cross_tab)\n",
    "        chi_sqaure_val_dict[str_key] = {}\n",
    "        chi_sqaure_val_dict[str_key][STAT_KEY] = stat\n",
    "        chi_sqaure_val_dict[str_key][P_VALUE_KEY] = p\n",
    "        count = count + 1\n",
    "        with open('chi_sqaure_val_dict_1000.pickle', 'wb') as handle:\n",
    "            pickle.dump(chi_sqaure_val_dict, handle, protocol=pickle.HIGHEST_PROTOCOL)\n",
    "        if count % 100 == 0:\n",
    "            print(\"%d --- %s seconds ---\" % (count, time.time() - start_time))\n",
    "            start_time = time.time()\n",
    "    return chi_sqaure_val_dict\n",
    "        \n",
    "        \n",
    "\n",
    "    \n",
    "    "
   ]
  },
  {
   "cell_type": "code",
   "execution_count": 15,
   "metadata": {},
   "outputs": [
    {
     "name": "stdout",
     "output_type": "stream",
     "text": [
      "100 --- 494.4723608493805 seconds ---\n",
      "200 --- 472.0745258331299 seconds ---\n",
      "300 --- 465.2748599052429 seconds ---\n",
      "400 --- 486.6910355091095 seconds ---\n",
      "500 --- 463.5092360973358 seconds ---\n",
      "600 --- 471.762446641922 seconds ---\n",
      "700 --- 469.4711182117462 seconds ---\n",
      "800 --- 485.177939414978 seconds ---\n",
      "900 --- 535.6110029220581 seconds ---\n",
      "1000 --- 483.4647464752197 seconds ---\n",
      "1100 --- 490.77819299697876 seconds ---\n",
      "1200 --- 464.335654258728 seconds ---\n",
      "1300 --- 498.00420475006104 seconds ---\n",
      "1400 --- 471.73712372779846 seconds ---\n",
      "1500 --- 468.38530588150024 seconds ---\n",
      "1600 --- 464.7618944644928 seconds ---\n",
      "1700 --- 505.4905686378479 seconds ---\n",
      "1800 --- 500.81805086135864 seconds ---\n",
      "1900 --- 477.7144603729248 seconds ---\n",
      "2000 --- 498.2261426448822 seconds ---\n",
      "2100 --- 463.35010528564453 seconds ---\n",
      "2200 --- 495.7636320590973 seconds ---\n",
      "2300 --- 468.30504155158997 seconds ---\n",
      "2400 --- 475.6915853023529 seconds ---\n",
      "2500 --- 469.99483346939087 seconds ---\n",
      "2600 --- 529.5054357051849 seconds ---\n",
      "2700 --- 506.5151252746582 seconds ---\n",
      "2800 --- 485.9904890060425 seconds ---\n",
      "2900 --- 497.4690752029419 seconds ---\n",
      "3000 --- 467.2142233848572 seconds ---\n",
      "3100 --- 509.4363226890564 seconds ---\n",
      "3200 --- 473.90160489082336 seconds ---\n",
      "3300 --- 469.4231643676758 seconds ---\n",
      "3400 --- 468.2208414077759 seconds ---\n",
      "3500 --- 507.7635142803192 seconds ---\n",
      "3600 --- 511.2348017692566 seconds ---\n",
      "3700 --- 482.3701431751251 seconds ---\n",
      "3800 --- 480.86998772621155 seconds ---\n",
      "3900 --- 485.1894497871399 seconds ---\n",
      "4000 --- 480.15939950942993 seconds ---\n",
      "4100 --- 467.15230679512024 seconds ---\n",
      "4200 --- 467.4744498729706 seconds ---\n",
      "4300 --- 466.0971338748932 seconds ---\n",
      "4400 --- 507.45635867118835 seconds ---\n",
      "4500 --- 472.60160756111145 seconds ---\n",
      "4600 --- 510.6021921634674 seconds ---\n",
      "4700 --- 491.1736330986023 seconds ---\n"
     ]
    }
   ],
   "source": [
    "chi_sqaure_val_dict_1000 = find_chi_square_value(diag_med_count_df_1000)"
   ]
  },
  {
   "cell_type": "code",
   "execution_count": null,
   "metadata": {},
   "outputs": [],
   "source": []
  }
 ],
 "metadata": {
  "kernelspec": {
   "display_name": "Python 3",
   "language": "python",
   "name": "python3"
  },
  "language_info": {
   "codemirror_mode": {
    "name": "ipython",
    "version": 3
   },
   "file_extension": ".py",
   "mimetype": "text/x-python",
   "name": "python",
   "nbconvert_exporter": "python",
   "pygments_lexer": "ipython3",
   "version": "3.6.9"
  }
 },
 "nbformat": 4,
 "nbformat_minor": 2
}
