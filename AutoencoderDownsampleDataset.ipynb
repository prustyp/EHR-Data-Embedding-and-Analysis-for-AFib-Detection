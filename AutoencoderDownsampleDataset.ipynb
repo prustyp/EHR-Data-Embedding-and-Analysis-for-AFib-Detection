{
 "cells": [
  {
   "cell_type": "markdown",
   "metadata": {},
   "source": [
    "This Noteboook creates the balanced AFib dataset"
   ]
  },
  {
   "cell_type": "markdown",
   "metadata": {},
   "source": [
    "## All Imports"
   ]
  },
  {
   "cell_type": "code",
   "execution_count": 2,
   "metadata": {},
   "outputs": [],
   "source": [
    "import pandas as pd\n",
    "import pickle\n",
    "from pandarallel import pandarallel\n",
    "from scipy import stats\n",
    "import time\n",
    "\n",
    "from sklearn.utils import resample"
   ]
  },
  {
   "cell_type": "code",
   "execution_count": 3,
   "metadata": {},
   "outputs": [],
   "source": [
    "## Read the CSV file\n",
    "df=pd.read_csv(\"afib100.csv\")"
   ]
  },
  {
   "cell_type": "code",
   "execution_count": 4,
   "metadata": {},
   "outputs": [
    {
     "data": {
      "text/plain": [
       "Index(['person_id', 'label', 'diag_med'], dtype='object')"
      ]
     },
     "execution_count": 4,
     "metadata": {},
     "output_type": "execute_result"
    }
   ],
   "source": [
    "##Print the columns\n",
    "df.columns"
   ]
  },
  {
   "cell_type": "code",
   "execution_count": 5,
   "metadata": {},
   "outputs": [],
   "source": [
    "## Create the dataframe of all true labels\n",
    "df_true = df[df.label == 1]"
   ]
  },
  {
   "cell_type": "code",
   "execution_count": 6,
   "metadata": {},
   "outputs": [
    {
     "data": {
      "text/plain": [
       "22998"
      ]
     },
     "execution_count": 6,
     "metadata": {},
     "output_type": "execute_result"
    }
   ],
   "source": [
    "## Find the shape of the trie labels\n",
    "df_true.shape[0]"
   ]
  },
  {
   "cell_type": "code",
   "execution_count": 6,
   "metadata": {},
   "outputs": [],
   "source": [
    "## Create the dataframe of all false labels\n",
    "df_false = df[df.label == 0]"
   ]
  },
  {
   "cell_type": "code",
   "execution_count": 7,
   "metadata": {},
   "outputs": [],
   "source": [
    "## Create the downnsampled datafeame of false labels\n",
    "df_majority_downsampled = resample(df_false, \n",
    "                                 replace=False,    # sample without replacement\n",
    "                                 n_samples=df_true.shape[0],     # to match minority class\n",
    "                                 random_state=123) # re"
   ]
  },
  {
   "cell_type": "code",
   "execution_count": 8,
   "metadata": {},
   "outputs": [
    {
     "data": {
      "text/html": [
       "<div>\n",
       "<style scoped>\n",
       "    .dataframe tbody tr th:only-of-type {\n",
       "        vertical-align: middle;\n",
       "    }\n",
       "\n",
       "    .dataframe tbody tr th {\n",
       "        vertical-align: top;\n",
       "    }\n",
       "\n",
       "    .dataframe thead th {\n",
       "        text-align: right;\n",
       "    }\n",
       "</style>\n",
       "<table border=\"1\" class=\"dataframe\">\n",
       "  <thead>\n",
       "    <tr style=\"text-align: right;\">\n",
       "      <th></th>\n",
       "      <th>person_id</th>\n",
       "      <th>label</th>\n",
       "      <th>diag_med</th>\n",
       "    </tr>\n",
       "  </thead>\n",
       "  <tbody>\n",
       "    <tr>\n",
       "      <th>787432</th>\n",
       "      <td>-7064974726652645114</td>\n",
       "      <td>0</td>\n",
       "      <td>316822,437247,192568,46287545,40173070,4016654...</td>\n",
       "    </tr>\n",
       "    <tr>\n",
       "      <th>25869</th>\n",
       "      <td>1829606001450628003</td>\n",
       "      <td>0</td>\n",
       "      <td>79908,31967,19072961,42708722,436353,132706,43...</td>\n",
       "    </tr>\n",
       "    <tr>\n",
       "      <th>1898176</th>\n",
       "      <td>-3084270736387858171</td>\n",
       "      <td>0</td>\n",
       "      <td>40232454,35603428,140352,35603226,138858,19019...</td>\n",
       "    </tr>\n",
       "    <tr>\n",
       "      <th>1596365</th>\n",
       "      <td>2288697227054300422</td>\n",
       "      <td>0</td>\n",
       "      <td>77670,46287372,46287424,19070869,46287375,1308...</td>\n",
       "    </tr>\n",
       "    <tr>\n",
       "      <th>644774</th>\n",
       "      <td>-5195235138160353811</td>\n",
       "      <td>0</td>\n",
       "      <td>40162515,4019957,35605482,778765,35605848,7586...</td>\n",
       "    </tr>\n",
       "    <tr>\n",
       "      <th>...</th>\n",
       "      <td>...</td>\n",
       "      <td>...</td>\n",
       "      <td>...</td>\n",
       "    </tr>\n",
       "    <tr>\n",
       "      <th>1335588</th>\n",
       "      <td>-3132352787126870311</td>\n",
       "      <td>0</td>\n",
       "      <td>440329,381859,140214,260123</td>\n",
       "    </tr>\n",
       "    <tr>\n",
       "      <th>1921323</th>\n",
       "      <td>1762326863891963670</td>\n",
       "      <td>0</td>\n",
       "      <td>194286</td>\n",
       "    </tr>\n",
       "    <tr>\n",
       "      <th>272300</th>\n",
       "      <td>6101823931667857161</td>\n",
       "      <td>0</td>\n",
       "      <td>25297,439703,1713370</td>\n",
       "    </tr>\n",
       "    <tr>\n",
       "      <th>1278388</th>\n",
       "      <td>-2549329255236024381</td>\n",
       "      <td>0</td>\n",
       "      <td>139900,141323,137053,318096,40222685,46276108,...</td>\n",
       "    </tr>\n",
       "    <tr>\n",
       "      <th>1210222</th>\n",
       "      <td>5216250601835807782</td>\n",
       "      <td>0</td>\n",
       "      <td>1703691,1836434,1717708,201211,40236824,190750...</td>\n",
       "    </tr>\n",
       "  </tbody>\n",
       "</table>\n",
       "<p>22998 rows × 3 columns</p>\n",
       "</div>"
      ],
      "text/plain": [
       "                   person_id  label  \\\n",
       "787432  -7064974726652645114      0   \n",
       "25869    1829606001450628003      0   \n",
       "1898176 -3084270736387858171      0   \n",
       "1596365  2288697227054300422      0   \n",
       "644774  -5195235138160353811      0   \n",
       "...                      ...    ...   \n",
       "1335588 -3132352787126870311      0   \n",
       "1921323  1762326863891963670      0   \n",
       "272300   6101823931667857161      0   \n",
       "1278388 -2549329255236024381      0   \n",
       "1210222  5216250601835807782      0   \n",
       "\n",
       "                                                  diag_med  \n",
       "787432   316822,437247,192568,46287545,40173070,4016654...  \n",
       "25869    79908,31967,19072961,42708722,436353,132706,43...  \n",
       "1898176  40232454,35603428,140352,35603226,138858,19019...  \n",
       "1596365  77670,46287372,46287424,19070869,46287375,1308...  \n",
       "644774   40162515,4019957,35605482,778765,35605848,7586...  \n",
       "...                                                    ...  \n",
       "1335588                        440329,381859,140214,260123  \n",
       "1921323                                             194286  \n",
       "272300                                25297,439703,1713370  \n",
       "1278388  139900,141323,137053,318096,40222685,46276108,...  \n",
       "1210222  1703691,1836434,1717708,201211,40236824,190750...  \n",
       "\n",
       "[22998 rows x 3 columns]"
      ]
     },
     "execution_count": 8,
     "metadata": {},
     "output_type": "execute_result"
    }
   ],
   "source": [
    "df_majority_downsampled"
   ]
  },
  {
   "cell_type": "code",
   "execution_count": 9,
   "metadata": {},
   "outputs": [],
   "source": [
    "## Create the dataframe by concatenaitng the true labels and downsampled false labels\n",
    "df_main = pd.concat([df_true, df_majority_downsampled])"
   ]
  },
  {
   "cell_type": "code",
   "execution_count": null,
   "metadata": {},
   "outputs": [],
   "source": []
  }
 ],
 "metadata": {
  "kernelspec": {
   "display_name": "Python 3",
   "language": "python",
   "name": "python3"
  },
  "language_info": {
   "codemirror_mode": {
    "name": "ipython",
    "version": 3
   },
   "file_extension": ".py",
   "mimetype": "text/x-python",
   "name": "python",
   "nbconvert_exporter": "python",
   "pygments_lexer": "ipython3",
   "version": "3.8.2"
  }
 },
 "nbformat": 4,
 "nbformat_minor": 2
}
